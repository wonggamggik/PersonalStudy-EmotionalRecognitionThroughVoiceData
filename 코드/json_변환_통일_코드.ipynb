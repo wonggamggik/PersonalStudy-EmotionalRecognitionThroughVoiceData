{
  "nbformat": 4,
  "nbformat_minor": 0,
  "metadata": {
    "colab": {
      "provenance": []
    },
    "kernelspec": {
      "name": "python3",
      "display_name": "Python 3"
    },
    "language_info": {
      "name": "python"
    }
  },
  "cells": [
    {
      "cell_type": "markdown",
      "source": [
        "audeering json 파일 전처리 코드"
      ],
      "metadata": {
        "id": "ARHkppRm3R3E"
      }
    },
    {
      "cell_type": "code",
      "source": [
        "import json\n",
        "\n",
        "# Colab 환경의 파일 경로 지정 (예: /content/your_file.json)\n",
        "file_path = \"/content/emotion_results-audeering.json\"\n",
        "\n",
        "# 원본 JSON 데이터 로드\n",
        "with open(file_path, \"r\") as file:\n",
        "    original_data = json.load(file)\n",
        "\n",
        "# 파일 이름에서 숫자를 추출하여 정렬하는 함수 정의\n",
        "def sort_by_file_name(data):\n",
        "    return sorted(data, key=lambda x: int(x[\"original_file\"].split(\".\")[0]))\n",
        "\n",
        "# 데이터 정렬\n",
        "sorted_data = sort_by_file_name(original_data)\n",
        "\n",
        "# 변환된 데이터를 저장할 리스트\n",
        "transformed_data = []\n",
        "\n",
        "# 데이터 변환\n",
        "for entry in sorted_data:\n",
        "    transformed_entry = {}\n",
        "    base_name = entry[\"original_file\"].split(\".\")[0]\n",
        "    transformed_entry[f\"{base_name}_predictions\"] = entry[\"original_predictions\"]\n",
        "    transformed_entry[f\"{base_name}n_predictions\"] = entry[\"noise_predictions\"]\n",
        "    transformed_entry[f\"{base_name}nn_predictions\"] = entry[\"noise2_predictions\"]\n",
        "    transformed_data.append(transformed_entry)\n",
        "\n",
        "# 변환된 데이터를 새 파일로 저장\n",
        "output_file_path = \"/content/emotion_results-audeering2.json\"\n",
        "with open(output_file_path, \"w\") as file:\n",
        "    json.dump(transformed_data, file, indent=4)\n",
        "\n",
        "print(f\"변환 완료: {output_file_path} 파일로 저장되었습니다.\")\n"
      ],
      "metadata": {
        "colab": {
          "base_uri": "https://localhost:8080/"
        },
        "id": "5wG87Xed3tv6",
        "outputId": "611eb3c8-2a62-4184-889e-fe1b47ec13b4"
      },
      "execution_count": null,
      "outputs": [
        {
          "output_type": "stream",
          "name": "stdout",
          "text": [
            "변환 완료: /content/emotion_results-audeering2.json 파일로 저장되었습니다.\n"
          ]
        }
      ]
    },
    {
      "cell_type": "markdown",
      "source": [
        "다른 파일 전처리 코드"
      ],
      "metadata": {
        "id": "Gk4bDfYe4gIE"
      }
    },
    {
      "cell_type": "code",
      "source": [
        "import json\n",
        "\n",
        "# JSON 파일 경로\n",
        "# 파일 경로 적을 것\n",
        "input_file_path = \"/content/emotion_results-kor-kresnik.json\"\n",
        "output_file_path = \"/content/emotion_results-kor-kresnik2.json\"\n",
        "\n",
        "# JSON 파일 로드\n",
        "with open(input_file_path, \"r\") as file:\n",
        "    original_data = json.load(file)\n",
        "\n",
        "# 파일 이름 정렬 함수 (숫자 정렬을 고려)\n",
        "def sort_file_names(data):\n",
        "    return sorted(data.items(), key=lambda x: int(x[0].split('.')[0].replace('n', '').replace('nn', '')))\n",
        "\n",
        "# 데이터를 정렬 및 변환\n",
        "sorted_data = sort_file_names(original_data)\n",
        "\n",
        "transformed_data = []\n",
        "for file_name, content in sorted_data:\n",
        "    base_name = file_name.split('.')[0]  # 파일 이름에서 확장자 제거\n",
        "    key_suffix = (\n",
        "        \"\" if \"nn\" not in file_name and \"n\" not in file_name\n",
        "        else \"n\" if \"nn\" not in file_name\n",
        "        else \"nn\"\n",
        "    )\n",
        "    key_name = f\"{base_name}{key_suffix}_predictions\"\n",
        "    transformed_data.append({key_name: list(content[\"emotions\"].values())})\n",
        "\n",
        "# 결과 저장\n",
        "with open(output_file_path, \"w\") as file:\n",
        "    json.dump(transformed_data, file, indent=4)\n",
        "\n",
        "print(f\"변환 완료: {output_file_path} 파일로 저장되었습니다.\")\n"
      ],
      "metadata": {
        "colab": {
          "base_uri": "https://localhost:8080/",
          "height": 391
        },
        "id": "9Nj6VBZM4hrk",
        "outputId": "452ba6c1-c0ea-4e00-c09e-8e4f9a51d7a9"
      },
      "execution_count": null,
      "outputs": [
        {
          "output_type": "error",
          "ename": "ValueError",
          "evalue": "invalid literal for int() with base 10: '1nn'",
          "traceback": [
            "\u001b[0;31m---------------------------------------------------------------------------\u001b[0m",
            "\u001b[0;31mValueError\u001b[0m                                Traceback (most recent call last)",
            "\u001b[0;32m<ipython-input-13-750e6411f587>\u001b[0m in \u001b[0;36m<cell line: 45>\u001b[0;34m()\u001b[0m\n\u001b[1;32m     47\u001b[0m         \u001b[0minput_file_path\u001b[0m \u001b[0;34m=\u001b[0m \u001b[0mos\u001b[0m\u001b[0;34m.\u001b[0m\u001b[0mpath\u001b[0m\u001b[0;34m.\u001b[0m\u001b[0mjoin\u001b[0m\u001b[0;34m(\u001b[0m\u001b[0minput_directory\u001b[0m\u001b[0;34m,\u001b[0m \u001b[0mfilename\u001b[0m\u001b[0;34m)\u001b[0m\u001b[0;34m\u001b[0m\u001b[0;34m\u001b[0m\u001b[0m\n\u001b[1;32m     48\u001b[0m         \u001b[0moutput_file_path\u001b[0m \u001b[0;34m=\u001b[0m \u001b[0mos\u001b[0m\u001b[0;34m.\u001b[0m\u001b[0mpath\u001b[0m\u001b[0;34m.\u001b[0m\u001b[0mjoin\u001b[0m\u001b[0;34m(\u001b[0m\u001b[0moutput_directory\u001b[0m\u001b[0;34m,\u001b[0m \u001b[0mfilename\u001b[0m\u001b[0;34m)\u001b[0m\u001b[0;34m\u001b[0m\u001b[0;34m\u001b[0m\u001b[0m\n\u001b[0;32m---> 49\u001b[0;31m         \u001b[0mprocess_json_file\u001b[0m\u001b[0;34m(\u001b[0m\u001b[0minput_file_path\u001b[0m\u001b[0;34m,\u001b[0m \u001b[0moutput_file_path\u001b[0m\u001b[0;34m)\u001b[0m\u001b[0;34m\u001b[0m\u001b[0;34m\u001b[0m\u001b[0m\n\u001b[0m\u001b[1;32m     50\u001b[0m \u001b[0;34m\u001b[0m\u001b[0m\n\u001b[1;32m     51\u001b[0m \u001b[0mprint\u001b[0m\u001b[0;34m(\u001b[0m\u001b[0;34mf\"모든 파일이 '{output_directory}' 디렉터리에 저장되었습니다.\"\u001b[0m\u001b[0;34m)\u001b[0m\u001b[0;34m\u001b[0m\u001b[0;34m\u001b[0m\u001b[0m\n",
            "\u001b[0;32m<ipython-input-13-750e6411f587>\u001b[0m in \u001b[0;36mprocess_json_file\u001b[0;34m(file_path, output_path)\u001b[0m\n\u001b[1;32m     36\u001b[0m \u001b[0;34m\u001b[0m\u001b[0m\n\u001b[1;32m     37\u001b[0m     \u001b[0;31m# 결과를 리스트로 변환\u001b[0m\u001b[0;34m\u001b[0m\u001b[0;34m\u001b[0m\u001b[0m\n\u001b[0;32m---> 38\u001b[0;31m     \u001b[0mresult\u001b[0m \u001b[0;34m=\u001b[0m \u001b[0;34m[\u001b[0m\u001b[0mvalues\u001b[0m \u001b[0;32mfor\u001b[0m \u001b[0m_\u001b[0m\u001b[0;34m,\u001b[0m \u001b[0mvalues\u001b[0m \u001b[0;32min\u001b[0m \u001b[0msorted\u001b[0m\u001b[0;34m(\u001b[0m\u001b[0mprocessed_data\u001b[0m\u001b[0;34m.\u001b[0m\u001b[0mitems\u001b[0m\u001b[0;34m(\u001b[0m\u001b[0;34m)\u001b[0m\u001b[0;34m,\u001b[0m \u001b[0mkey\u001b[0m\u001b[0;34m=\u001b[0m\u001b[0;32mlambda\u001b[0m \u001b[0mx\u001b[0m\u001b[0;34m:\u001b[0m \u001b[0mint\u001b[0m\u001b[0;34m(\u001b[0m\u001b[0mx\u001b[0m\u001b[0;34m[\u001b[0m\u001b[0;36m0\u001b[0m\u001b[0;34m]\u001b[0m\u001b[0;34m)\u001b[0m\u001b[0;34m)\u001b[0m\u001b[0;34m]\u001b[0m\u001b[0;34m\u001b[0m\u001b[0;34m\u001b[0m\u001b[0m\n\u001b[0m\u001b[1;32m     39\u001b[0m \u001b[0;34m\u001b[0m\u001b[0m\n\u001b[1;32m     40\u001b[0m     \u001b[0;31m# 변환된 데이터 저장\u001b[0m\u001b[0;34m\u001b[0m\u001b[0;34m\u001b[0m\u001b[0m\n",
            "\u001b[0;32m<ipython-input-13-750e6411f587>\u001b[0m in \u001b[0;36m<lambda>\u001b[0;34m(x)\u001b[0m\n\u001b[1;32m     36\u001b[0m \u001b[0;34m\u001b[0m\u001b[0m\n\u001b[1;32m     37\u001b[0m     \u001b[0;31m# 결과를 리스트로 변환\u001b[0m\u001b[0;34m\u001b[0m\u001b[0;34m\u001b[0m\u001b[0m\n\u001b[0;32m---> 38\u001b[0;31m     \u001b[0mresult\u001b[0m \u001b[0;34m=\u001b[0m \u001b[0;34m[\u001b[0m\u001b[0mvalues\u001b[0m \u001b[0;32mfor\u001b[0m \u001b[0m_\u001b[0m\u001b[0;34m,\u001b[0m \u001b[0mvalues\u001b[0m \u001b[0;32min\u001b[0m \u001b[0msorted\u001b[0m\u001b[0;34m(\u001b[0m\u001b[0mprocessed_data\u001b[0m\u001b[0;34m.\u001b[0m\u001b[0mitems\u001b[0m\u001b[0;34m(\u001b[0m\u001b[0;34m)\u001b[0m\u001b[0;34m,\u001b[0m \u001b[0mkey\u001b[0m\u001b[0;34m=\u001b[0m\u001b[0;32mlambda\u001b[0m \u001b[0mx\u001b[0m\u001b[0;34m:\u001b[0m \u001b[0mint\u001b[0m\u001b[0;34m(\u001b[0m\u001b[0mx\u001b[0m\u001b[0;34m[\u001b[0m\u001b[0;36m0\u001b[0m\u001b[0;34m]\u001b[0m\u001b[0;34m)\u001b[0m\u001b[0;34m)\u001b[0m\u001b[0;34m]\u001b[0m\u001b[0;34m\u001b[0m\u001b[0;34m\u001b[0m\u001b[0m\n\u001b[0m\u001b[1;32m     39\u001b[0m \u001b[0;34m\u001b[0m\u001b[0m\n\u001b[1;32m     40\u001b[0m     \u001b[0;31m# 변환된 데이터 저장\u001b[0m\u001b[0;34m\u001b[0m\u001b[0;34m\u001b[0m\u001b[0m\n",
            "\u001b[0;31mValueError\u001b[0m: invalid literal for int() with base 10: '1nn'"
          ]
        }
      ]
    },
    {
      "cell_type": "code",
      "source": [
        "import json\n",
        "import os\n",
        "import re\n",
        "\n",
        "# JSON 파일이 저장된 디렉터리 경로\n",
        "input_directory = \"/content/input\"  # 입력 파일 디렉터리\n",
        "output_directory = \"/content/output\"  # 출력 파일 디렉터리\n",
        "\n",
        "# 출력 디렉터리 생성\n",
        "os.makedirs(output_directory, exist_ok=True)\n",
        "\n",
        "def normalize_key(key):\n",
        "    \"\"\"키를 정상화: nn -> n, nnnn -> nn\"\"\"\n",
        "    if \"nnnn\" in key:\n",
        "        return key.replace(\"nnnn\", \"nn\")\n",
        "    elif \"nn\" in key:\n",
        "        return key.replace(\"nn\", \"n\")\n",
        "    return key\n",
        "\n",
        "def extract_base_number(key):\n",
        "    \"\"\"키에서 기본 숫자 부분을 추출\"\"\"\n",
        "    match = re.match(r\"(\\d+)\", key)\n",
        "    return match.group(1) if match else None\n",
        "\n",
        "def process_json_file(file_path, output_path):\n",
        "    with open(file_path, \"r\") as file:\n",
        "        data = json.load(file)\n",
        "\n",
        "    processed_data = {}\n",
        "\n",
        "    # 데이터 그룹화\n",
        "    for item in data:\n",
        "        for key, values in item.items():\n",
        "            # 키에서 기본 숫자 추출 및 접미사 변환\n",
        "            base_number = extract_base_number(key)\n",
        "            normalized_key = normalize_key(key)\n",
        "\n",
        "            if base_number not in processed_data:\n",
        "                processed_data[base_number] = {}\n",
        "\n",
        "            processed_data[base_number][normalized_key] = values\n",
        "\n",
        "    # 결과를 리스트로 변환\n",
        "    result = [values for _, values in sorted(processed_data.items(), key=lambda x: int(x[0]))]\n",
        "\n",
        "    # 변환된 데이터 저장\n",
        "    with open(output_path, \"w\") as file:\n",
        "        json.dump(result, file, indent=4)\n",
        "\n",
        "# 디렉터리 내 모든 JSON 파일 처리\n",
        "for filename in os.listdir(input_directory):\n",
        "    if filename.endswith(\".json\"):\n",
        "        input_file_path = os.path.join(input_directory, filename)\n",
        "        output_file_path = os.path.join(output_directory, filename)\n",
        "        process_json_file(input_file_path, output_file_path)\n",
        "\n",
        "print(f\"모든 파일이 '{output_directory}' 디렉터리에 저장되었습니다.\")\n"
      ],
      "metadata": {
        "colab": {
          "base_uri": "https://localhost:8080/"
        },
        "id": "Jy8QzN-HHgH7",
        "outputId": "346022e6-bf95-4802-ac98-2a62c3bafd38"
      },
      "execution_count": null,
      "outputs": [
        {
          "output_type": "stream",
          "name": "stdout",
          "text": [
            "모든 파일이 '/content/output' 디렉터리에 저장되었습니다.\n"
          ]
        }
      ]
    }
  ]
}